{
 "cells": [
  {
   "cell_type": "code",
   "execution_count": 1,
   "metadata": {},
   "outputs": [
    {
     "name": "stdout",
     "output_type": "stream",
     "text": [
      "0    10\n",
      "1    20\n",
      "2    30\n",
      "3    40\n",
      "4    50\n",
      "dtype: int64\n",
      "\n",
      "0    a\n",
      "1    b\n",
      "2    c\n",
      "dtype: object\n",
      "(5,)\n",
      "(3,)\n"
     ]
    }
   ],
   "source": [
    "import pandas as pd\n",
    "import numpy as np\n",
    "\n",
    "i = pd.Series([10,20,30,40,50])\n",
    "k = pd.Series(['a', 'b', 'c'])\n",
    "\n",
    "print(i)\n",
    "print()\n",
    "print(k)\n",
    "\n",
    "print(i.shape)\n",
    "print(k.shape)"
   ]
  },
  {
   "cell_type": "code",
   "execution_count": 2,
   "metadata": {},
   "outputs": [
    {
     "name": "stdout",
     "output_type": "stream",
     "text": [
      "0    10\n",
      "1    20\n",
      "2    30\n",
      "3    40\n",
      "4    50\n",
      "dtype: int64\n",
      "\n",
      "0    a\n",
      "1    b\n",
      "2    c\n",
      "dtype: object\n",
      "1 1\n"
     ]
    }
   ],
   "source": [
    "import pandas as pd\n",
    "import numpy as np\n",
    "\n",
    "i = pd.Series([10,20,30,40,50])\n",
    "k = pd.Series(['a', 'b', 'c'])\n",
    "\n",
    "print(i)\n",
    "print()\n",
    "print(k)\n",
    "\n",
    "print(i.ndim, k.ndim)"
   ]
  },
  {
   "cell_type": "code",
   "execution_count": 3,
   "metadata": {},
   "outputs": [
    {
     "name": "stdout",
     "output_type": "stream",
     "text": [
      "0    10\n",
      "1    20\n",
      "2    30\n",
      "3    40\n",
      "4    50\n",
      "dtype: int64\n",
      "\n",
      "0    a\n",
      "1    b\n",
      "2    c\n",
      "dtype: object\n",
      "5\n",
      "3\n"
     ]
    }
   ],
   "source": [
    "import pandas as pd\n",
    "import numpy as np\n",
    "\n",
    "i = pd.Series([10,20,30,40,50])\n",
    "j = pd.Series(['a', 'b', 'c'])\n",
    "\n",
    "print(i)\n",
    "print()\n",
    "print(j)\n",
    "\n",
    "print(i.size)\n",
    "print(j.size)"
   ]
  },
  {
   "cell_type": "code",
   "execution_count": 4,
   "metadata": {},
   "outputs": [
    {
     "name": "stdout",
     "output_type": "stream",
     "text": [
      "0    10\n",
      "1    20\n",
      "2    30\n",
      "3    40\n",
      "4    50\n",
      "dtype: int64\n",
      "\n",
      "0    a\n",
      "1    b\n",
      "2    c\n",
      "dtype: object\n",
      "\n",
      "Series([], dtype: float64)\n",
      "False\n",
      "False\n",
      "True\n"
     ]
    },
    {
     "name": "stderr",
     "output_type": "stream",
     "text": [
      "<ipython-input-4-7cd31e04315d>:6: DeprecationWarning: The default dtype for empty Series will be 'object' instead of 'float64' in a future version. Specify a dtype explicitly to silence this warning.\n",
      "  k = pd.Series([])\n"
     ]
    }
   ],
   "source": [
    "import pandas as pd\n",
    "import numpy as np\n",
    "\n",
    "i = pd.Series([10,20,30,40,50])\n",
    "j = pd.Series(['a', 'b', 'c'])\n",
    "k = pd.Series([])\n",
    "\n",
    "print(i)\n",
    "print()\n",
    "print(j)\n",
    "print()\n",
    "print(k)\n",
    "\n",
    "print(i.empty)\n",
    "print(j.empty)\n",
    "print(k.empty)"
   ]
  },
  {
   "cell_type": "code",
   "execution_count": 5,
   "metadata": {},
   "outputs": [
    {
     "name": "stdout",
     "output_type": "stream",
     "text": [
      "0    10.0\n",
      "1    20.0\n",
      "2    30.0\n",
      "3    40.0\n",
      "4    50.0\n",
      "5     NaN\n",
      "dtype: float64\n",
      "0    a\n",
      "1    b\n",
      "2    c\n",
      "dtype: object\n",
      "Series([], dtype: float64)\n",
      "True\n",
      "False\n",
      "False\n"
     ]
    },
    {
     "name": "stderr",
     "output_type": "stream",
     "text": [
      "<ipython-input-5-a5896e206051>:6: DeprecationWarning: The default dtype for empty Series will be 'object' instead of 'float64' in a future version. Specify a dtype explicitly to silence this warning.\n",
      "  k = pd.Series([])\n"
     ]
    }
   ],
   "source": [
    "import pandas as pd\n",
    "import numpy as np\n",
    "\n",
    "i = pd.Series([10,20,30,40,50, np.NaN])\n",
    "j = pd.Series(['a', 'b', 'c'])\n",
    "k = pd.Series([])\n",
    "\n",
    "print(i)\n",
    "print(j)\n",
    "print(k)\n",
    "\n",
    "print(i.hasnans)\n",
    "print(j.hasnans)\n",
    "print(k.hasnans)"
   ]
  },
  {
   "cell_type": "code",
   "execution_count": 6,
   "metadata": {},
   "outputs": [
    {
     "name": "stdout",
     "output_type": "stream",
     "text": [
      "1.1.3\n"
     ]
    }
   ],
   "source": [
    "import pandas as pd\n",
    "\n",
    "print(pd.__version__)"
   ]
  },
  {
   "cell_type": "code",
   "execution_count": 7,
   "metadata": {},
   "outputs": [
    {
     "data": {
      "text/plain": [
       "a    10.0\n",
       "b    20.0\n",
       "c    30.0\n",
       "d    50.0\n",
       "e    50.0\n",
       "dtype: float64"
      ]
     },
     "execution_count": 7,
     "metadata": {},
     "output_type": "execute_result"
    }
   ],
   "source": [
    "import pandas as pd\n",
    "\n",
    "i = pd.Series([10,20,30,50,50],\n",
    "\n",
    "index=['a','b','c','d','e'], dtype=float)\n",
    "\n",
    "i"
   ]
  },
  {
   "cell_type": "code",
   "execution_count": 8,
   "metadata": {},
   "outputs": [
    {
     "data": {
      "text/plain": [
       "a    10.0\n",
       "b    20.0\n",
       "c    30.0\n",
       "d    50.0\n",
       "e    50.0\n",
       "Name: Data values, dtype: float64"
      ]
     },
     "execution_count": 8,
     "metadata": {},
     "output_type": "execute_result"
    }
   ],
   "source": [
    "import pandas as pd\n",
    "\n",
    "i = pd.Series([10,20,30,50,50],\n",
    "index=['a','b','c','d','e'],\n",
    "dtype=float,\n",
    "name=\"Data values\")\n",
    "\n",
    "i"
   ]
  },
  {
   "cell_type": "code",
   "execution_count": 9,
   "metadata": {},
   "outputs": [
    {
     "data": {
      "text/plain": [
       "b    20\n",
       "c    30\n",
       "d    50\n",
       "dtype: int64"
      ]
     },
     "execution_count": 9,
     "metadata": {},
     "output_type": "execute_result"
    }
   ],
   "source": [
    "import pandas as pd\n",
    "\n",
    "i = pd.Series([10,20,30,50,50], index=['a','b','c','d','e'])\n",
    "\n",
    "i\n",
    "\n",
    "i[1:4]"
   ]
  },
  {
   "cell_type": "code",
   "execution_count": 10,
   "metadata": {},
   "outputs": [
    {
     "data": {
      "text/plain": [
       "50"
      ]
     },
     "execution_count": 10,
     "metadata": {},
     "output_type": "execute_result"
    }
   ],
   "source": [
    "import pandas as pd\n",
    "\n",
    "i = pd.Series([10,20,30,50,50], index=['a','b','c','d','e'])\n",
    "\n",
    "i\n",
    "\n",
    "min(i)\n",
    "\n",
    "max(i)"
   ]
  },
  {
   "cell_type": "code",
   "execution_count": 11,
   "metadata": {},
   "outputs": [
    {
     "name": "stdout",
     "output_type": "stream",
     "text": [
      "0    10\n",
      "1    20\n",
      "2    30\n",
      "dtype: int64\n",
      "0    1\n",
      "1    2\n",
      "2    3\n",
      "dtype: int64\n"
     ]
    },
    {
     "data": {
      "text/plain": [
       "0    11\n",
       "1    22\n",
       "2    33\n",
       "dtype: int64"
      ]
     },
     "execution_count": 11,
     "metadata": {},
     "output_type": "execute_result"
    }
   ],
   "source": [
    "import pandas as pd\n",
    "\n",
    "i = pd.Series([10,20,30])\n",
    "j = pd.Series([1,2,3])\n",
    "\n",
    "print(i)\n",
    "print(j)\n",
    "\n",
    "i+j"
   ]
  },
  {
   "cell_type": "code",
   "execution_count": 12,
   "metadata": {},
   "outputs": [
    {
     "name": "stdout",
     "output_type": "stream",
     "text": [
      "0    10\n",
      "1    20\n",
      "2    30\n",
      "dtype: int64\n",
      "0    1\n",
      "1    2\n",
      "2    3\n",
      "3    4\n",
      "dtype: int64\n"
     ]
    },
    {
     "data": {
      "text/plain": [
       "0    11.0\n",
       "1    22.0\n",
       "2    33.0\n",
       "3     NaN\n",
       "dtype: float64"
      ]
     },
     "execution_count": 12,
     "metadata": {},
     "output_type": "execute_result"
    }
   ],
   "source": [
    "import pandas as pd\n",
    "\n",
    "i = pd.Series([10,20,30])\n",
    "j = pd.Series([1,2,3, 4])\n",
    "\n",
    "print(i)\n",
    "print(j)\n",
    "\n",
    "i+j"
   ]
  },
  {
   "cell_type": "code",
   "execution_count": 13,
   "metadata": {},
   "outputs": [
    {
     "name": "stdout",
     "output_type": "stream",
     "text": [
      "Empty DataFrame\n",
      "Columns: []\n",
      "Index: []\n"
     ]
    }
   ],
   "source": [
    "import pandas as pd\n",
    "\n",
    "df = pd.DataFrame()\n",
    "\n",
    "print (df)"
   ]
  },
  {
   "cell_type": "code",
   "execution_count": 14,
   "metadata": {},
   "outputs": [
    {
     "name": "stdout",
     "output_type": "stream",
     "text": [
      "    0\n",
      "0  10\n",
      "1  20\n",
      "2  30\n",
      "3  40\n",
      "4  50\n",
      "5  60\n"
     ]
    }
   ],
   "source": [
    "import pandas as pd\n",
    "\n",
    "i = [10,20,30,40,50,60]\n",
    "\n",
    "df = pd.DataFrame(i)\n",
    "\n",
    "print(df)"
   ]
  },
  {
   "cell_type": "code",
   "execution_count": 15,
   "metadata": {},
   "outputs": [
    {
     "name": "stdout",
     "output_type": "stream",
     "text": [
      "        0\n",
      "0  Item 1\n",
      "1  Item 2\n",
      "2  Item 3\n",
      "3  Item 4\n"
     ]
    }
   ],
   "source": [
    "import pandas as pd\n",
    "\n",
    "i = [\"Item 1\", \"Item 2\", \"Item 3\", \"Item 4\"]\n",
    "\n",
    "df = pd.DataFrame(i)\n",
    "\n",
    "print(df)"
   ]
  },
  {
   "cell_type": "code",
   "execution_count": 16,
   "metadata": {},
   "outputs": [
    {
     "name": "stdout",
     "output_type": "stream",
     "text": [
      "        0\n",
      "0  Item 1\n",
      "1  Item 2\n",
      "2  Item 3\n",
      "3  Item 4\n",
      "4      10\n",
      "5      20\n",
      "6      30\n",
      "7   20.25\n"
     ]
    }
   ],
   "source": [
    "import pandas as pd\n",
    "\n",
    "i = [\"Item 1\", \"Item 2\", \"Item 3\", \"Item 4\", 10,20,30,20.25]\n",
    "\n",
    "df = pd.DataFrame(i)\n",
    "\n",
    "print(df)"
   ]
  },
  {
   "cell_type": "code",
   "execution_count": 17,
   "metadata": {},
   "outputs": [
    {
     "name": "stdout",
     "output_type": "stream",
     "text": [
      "   no    name\n",
      "0   1    john\n",
      "1   2    andy\n",
      "2   3  sandra\n"
     ]
    }
   ],
   "source": [
    "import pandas as pd\n",
    "\n",
    "i = {'no' :[1, 2, 3], 'name' :['john','andy','sandra',]}\n",
    "\n",
    "df = pd.DataFrame(i)\n",
    "\n",
    "print (df)"
   ]
  },
  {
   "cell_type": "code",
   "execution_count": 18,
   "metadata": {},
   "outputs": [
    {
     "name": "stdout",
     "output_type": "stream",
     "text": [
      "   no    name    city\n",
      "0   1    john    pune\n",
      "1   2    andy  mumbai\n",
      "2   3  sandra    pune\n",
      "3   4   jonny  mumbai\n"
     ]
    }
   ],
   "source": [
    "import pandas as pd\n",
    "\n",
    "i = {'no' :[1, 2, 3, 4],\n",
    "\n",
    "'name' :['john','andy','sandra', 'jonny'],\n",
    "'city': ['pune', 'mumbai', 'pune', 'mumbai']}\n",
    "\n",
    "df = pd.DataFrame(i)\n",
    "\n",
    "print (df)"
   ]
  },
  {
   "cell_type": "code",
   "execution_count": 19,
   "metadata": {},
   "outputs": [
    {
     "name": "stdout",
     "output_type": "stream",
     "text": [
      "   no\n",
      "a   1\n",
      "b   2\n",
      "c   3\n",
      "d   4\n",
      "e   5\n"
     ]
    }
   ],
   "source": [
    "import pandas as pd\n",
    "\n",
    "i = {'no' : pd.Series([1, 2, 3, 4, 5], index=['a', 'b', 'c', 'd', 'e'])}\n",
    "\n",
    "d1 = pd.DataFrame(i)\n",
    "\n",
    "print (d1)"
   ]
  },
  {
   "cell_type": "code",
   "execution_count": 20,
   "metadata": {},
   "outputs": [
    {
     "name": "stdout",
     "output_type": "stream",
     "text": [
      "     no  no1\n",
      "a   1.0  NaN\n",
      "a1  NaN  6.0\n",
      "b   2.0  NaN\n",
      "b1  NaN  7.0\n",
      "c   3.0  NaN\n",
      "c1  NaN  8.0\n"
     ]
    }
   ],
   "source": [
    "import pandas as pd\n",
    "\n",
    "i = {'no' : pd.Series([1, 2, 3], index=['a', 'b', 'c']),\n",
    "'no1' : pd.Series([6, 7, 8], index=['a1', 'b1', 'c1'])\n",
    " }\n",
    "\n",
    "d1 = pd.DataFrame(i)\n",
    "\n",
    "print (d1)"
   ]
  },
  {
   "cell_type": "code",
   "execution_count": null,
   "metadata": {},
   "outputs": [],
   "source": []
  }
 ],
 "metadata": {
  "kernelspec": {
   "display_name": "Python 3",
   "language": "python",
   "name": "python3"
  },
  "language_info": {
   "codemirror_mode": {
    "name": "ipython",
    "version": 3
   },
   "file_extension": ".py",
   "mimetype": "text/x-python",
   "name": "python",
   "nbconvert_exporter": "python",
   "pygments_lexer": "ipython3",
   "version": "3.8.5"
  }
 },
 "nbformat": 4,
 "nbformat_minor": 4
}
